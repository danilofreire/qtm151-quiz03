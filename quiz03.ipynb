{
 "cells": [
  {
   "attachments": {},
   "cell_type": "markdown",
   "metadata": {},
   "source": [
    "## QTM 151 - Quiz 03"
   ]
  },
  {
   "attachments": {},
   "cell_type": "markdown",
   "metadata": {},
   "source": [
    "### Try to submit as an HTML file"
   ]
  },
  {
   "attachments": {},
   "cell_type": "markdown",
   "metadata": {},
   "source": [
    "### Print your name below"
   ]
  },
  {
   "cell_type": "code",
   "execution_count": null,
   "metadata": {},
   "outputs": [],
   "source": [
    "# Write your answer here\n"
   ]
  },
  {
   "attachments": {},
   "cell_type": "markdown",
   "metadata": {},
   "source": [
    "<font size = \"3\" >\n",
    "This quiz is open book \n",
    "\n",
    "- You can use the lecture notes\n",
    "- You will get partial credit for attempting the questions\n",
    "- To get full credit, the code should run as intended\n",
    "- You should <span style=\"color:red\"> NOT </span> communicate with other students\n",
    "\n",
    "Print the following message: <br>\n",
    "\n",
    "\"I will abide by Emory's code of conduct\"\n"
   ]
  },
  {
   "cell_type": "code",
   "execution_count": null,
   "metadata": {},
   "outputs": [],
   "source": [
    "# Write your answer here:\n"
   ]
  },
  {
   "attachments": {},
   "cell_type": "markdown",
   "metadata": {},
   "source": [
    "<font size = \"3\">\n",
    "\n",
    "Import the libraries \"numpy\" and \"pandas\""
   ]
  },
  {
   "cell_type": "code",
   "execution_count": null,
   "metadata": {},
   "outputs": [],
   "source": [
    "# Write your answer here\n"
   ]
  },
  {
   "cell_type": "markdown",
   "metadata": {},
   "source": [
    "\n",
    "<font size = \"3\">\n",
    "\n",
    "(a) Replace the values of a column\n",
    "\n",
    "- Import the `data_quiz/constructors.csv` file\n",
    "- Replace the values `British`, `American`, and `Dutch` with `UK`, `USA`, `Netherlands` in the column `nationality`\n",
    "\n",
    "\n",
    "HINT: See the example in Lecture 12"
   ]
  },
  {
   "cell_type": "code",
   "execution_count": null,
   "metadata": {},
   "outputs": [],
   "source": [
    "# Write your own code\n"
   ]
  },
  {
   "cell_type": "markdown",
   "metadata": {},
   "source": [
    "<font size = \"3\">\n",
    "\n",
    "\n",
    "**For questions (b)-(e):**\n",
    "\n",
    "**Import the `data_quiz/sprint_results.csv` file** \n",
    "\n",
    "(b) Recode a numeric colum\n",
    "\n",
    "- Recode the `points` column into a new column `points_brackets` with the following categories\n",
    "\n",
    "$\\qquad$ ``` [\"0-20\",\"21-30\",\"31-100\"] ```\n",
    "\n",
    "$\\qquad$ HINT: Use the `pd.cut()` command. See Lecture 12 <br>\n",
    "$\\qquad$ HINT: Be careful about the left and right points of <br>\n",
    "$\\qquad$ interval to make sure that you classify the points correctly"
   ]
  },
  {
   "cell_type": "code",
   "execution_count": null,
   "metadata": {},
   "outputs": [],
   "source": [
    "# Write your own code:\n"
   ]
  },
  {
   "cell_type": "markdown",
   "metadata": {},
   "source": [
    "(c) Aggregate and query\n",
    "\n",
    "- Subset the observations for `raceId <= 1070` using `.query()`\n",
    "- Obtain the maximum of `points` by `driverId` using `.groupby().agg()` and save this to <br>\n",
    "a new dataset called `aggregate_data`\n",
    "- From `aggregate_data` subset the drivers with a maximum number of points $>= 1$\n",
    "- Display the resulting dataset\n",
    "\n",
    "\n",
    "Hint: See Lecture 15"
   ]
  },
  {
   "cell_type": "code",
   "execution_count": null,
   "metadata": {},
   "outputs": [],
   "source": [
    "# Write your own code\n"
   ]
  },
  {
   "cell_type": "markdown",
   "metadata": {},
   "source": [
    "<font size = \"3\">\n",
    "\n",
    "(d) Aggregate and sort\n",
    "\n",
    "- Obtain the mean of `points` by `driverId` using `.groupby().agg()`\n",
    "- Sort the drivers in descending order using of the mean of points using `.sort_values()`\n",
    "\n",
    "\n",
    "Hint: See Lecture 15"
   ]
  },
  {
   "cell_type": "code",
   "execution_count": null,
   "metadata": {},
   "outputs": [],
   "source": [
    "# Write your own code\n"
   ]
  },
  {
   "cell_type": "markdown",
   "metadata": {},
   "source": [
    "<font size = \"3\">\n",
    "\n",
    "(e) Rename column\n",
    "\n",
    "- Rename the column `grid` to `grid_placement`\n",
    "\n",
    "HINT: Create a dictionary and use `.rename(columns = ...)`\n",
    "\n",
    "See Lecture 15"
   ]
  },
  {
   "cell_type": "code",
   "execution_count": null,
   "metadata": {},
   "outputs": [],
   "source": [
    "# Write your own code\n"
   ]
  },
  {
   "cell_type": "markdown",
   "metadata": {},
   "source": [
    "<font size = \"3\">\n",
    "\n",
    "(f) Merge dataset\n",
    "\n",
    "- Create a new dataset with  ```pd.merge()``` using `sprint_results` as the primary dataset, and <br>\n",
    "`constructors` as the secondary dataset, merging on the column `constructorId`\n",
    "- To get full points **ONLY** merge the `nationality` column from the secondary dataset (not all the columns)\n",
    "\n",
    "HINT: Use `[[...]]` to extract a subset of columns <br>\n",
    "from the secondary dataset before merging, including the `constructorId` column.\n",
    "\n",
    "Be careful to notice that `constructorId` has an uppercase \"I\".\n",
    "\n",
    "See Lecture 15"
   ]
  },
  {
   "cell_type": "code",
   "execution_count": null,
   "metadata": {},
   "outputs": [],
   "source": [
    "# Write your own code\n"
   ]
  }
 ],
 "metadata": {
  "kernelspec": {
   "display_name": "base",
   "language": "python",
   "name": "python3"
  },
  "language_info": {
   "codemirror_mode": {
    "name": "ipython",
    "version": 3
   },
   "file_extension": ".py",
   "mimetype": "text/x-python",
   "name": "python",
   "nbconvert_exporter": "python",
   "pygments_lexer": "ipython3",
   "version": "3.9.13"
  },
  "orig_nbformat": 4,
  "vscode": {
   "interpreter": {
    "hash": "45fc1f684f6f416f40889115beff3ddf69879b64cf4bfee48cb72a61e9d15d1a"
   }
  }
 },
 "nbformat": 4,
 "nbformat_minor": 2
}
